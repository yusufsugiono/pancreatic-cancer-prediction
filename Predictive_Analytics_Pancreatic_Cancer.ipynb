{
  "nbformat": 4,
  "nbformat_minor": 0,
  "metadata": {
    "colab": {
      "name": "Predictive Analytics - Pancreatic Cancer.ipynb",
      "provenance": [],
      "collapsed_sections": []
    },
    "kernelspec": {
      "name": "python3",
      "display_name": "Python 3"
    },
    "language_info": {
      "name": "python"
    }
  },
  "cells": [
    {
      "cell_type": "markdown",
      "metadata": {
        "id": "54q2l8x_ZbVc"
      },
      "source": [
        "# **Predictive Analytics** : Diagnosa Kanker Pankreas Berdasarkan Biomarker Urin\n",
        "---\n",
        "Oleh : [Yusuf Sugiono](https://dicoding.com/users/yusufsugiono)"
      ]
    },
    {
      "cell_type": "markdown",
      "metadata": {
        "id": "59TSON99bSTQ"
      },
      "source": [
        "![Infographics: Pancreatic Cancer, medindia.net](https://www.medindia.net/images/common/infographics/article-images/950_400/pancreatic-cancer-infographic.jpg)"
      ]
    },
    {
      "cell_type": "markdown",
      "metadata": {
        "id": "Uj6ZYpSgZa5Z"
      },
      "source": [
        "## Pendahuluan\n",
        "\n",
        "- Latar Belakang  \n",
        "Kanker pankreas adalah jenis kanker yang sangat mematikan. Setelah didiagnosis, tingkat kelangsungan hidup lima tahun kurang dari 10%. Namun, jika kanker pankreas terdeteksi lebih awal, kemungkinan bertahan hidup jauh lebih baik. Sayangnya, banyak kasus kanker pankreas tidak menunjukkan gejala hingga kanker menyebar ke seluruh tubuh. Tes diagnostik untuk mengidentifikasi orang dengan kanker pankreas bisa sangat membantu."
      ]
    },
    {
      "cell_type": "markdown",
      "metadata": {
        "id": "CABKy9RNcYIR"
      },
      "source": [
        "## Penyiapan Data"
      ]
    },
    {
      "cell_type": "markdown",
      "metadata": {
        "id": "7IjO5rWUckGa"
      },
      "source": [
        "### Mengimpor Library"
      ]
    },
    {
      "cell_type": "code",
      "metadata": {
        "id": "1VmCM5VfR_2B"
      },
      "source": [
        "# Import Library\n",
        "from google.colab import files\n",
        "import os\n",
        "import zipfile\n",
        "import pandas as pd\n",
        "import seaborn as sns\n",
        "from sklearn.preprocessing import MinMaxScaler\n",
        "from sklearn.model_selection import train_test_split\n",
        "from sklearn.neighbors import KNeighborsClassifier\n",
        "from sklearn.ensemble import RandomForestClassifier\n",
        "from sklearn.svm import SVC\n",
        "from sklearn.naive_bayes import BernoulliNB\n",
        "from sklearn.metrics import accuracy_score\n",
        "import matplotlib.pyplot as plt"
      ],
      "execution_count": 1,
      "outputs": []
    },
    {
      "cell_type": "markdown",
      "metadata": {
        "id": "jxW7Oq44ceU1"
      },
      "source": [
        "### Menyiapkan Kredensial Kaggle\n",
        "\n",
        "Dataset yang akan dipakai dalam proyek ini diambil dari platform Kaggle. Maka dari itu, sebelum dapat mengunduh data, harus mengunggah kredensial berupa file JSON yang dapat di-generate melalui profil akun Kaggle. "
      ]
    },
    {
      "cell_type": "code",
      "metadata": {
        "colab": {
          "resources": {
            "http://localhost:8080/nbextensions/google.colab/files.js": {
              "data": "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",
              "ok": true,
              "headers": [
                [
                  "content-type",
                  "application/javascript"
                ]
              ],
              "status": 200,
              "status_text": ""
            }
          },
          "base_uri": "https://localhost:8080/",
          "height": 89
        },
        "id": "UusXQwVZ0dJT",
        "outputId": "3e181862-d9ed-4c72-b97a-927cb18628cd"
      },
      "source": [
        "# Upload kaggle.json\n",
        "uploaded = files.upload()\n",
        "\n",
        "for fn in uploaded.keys():\n",
        "  print('User uploaded file \"{name}\"'.format(\n",
        "      name=fn))"
      ],
      "execution_count": 2,
      "outputs": [
        {
          "output_type": "display_data",
          "data": {
            "text/html": [
              "\n",
              "     <input type=\"file\" id=\"files-657d3e67-dcc3-4e3a-926a-65285a98c2f5\" name=\"files[]\" multiple disabled\n",
              "        style=\"border:none\" />\n",
              "     <output id=\"result-657d3e67-dcc3-4e3a-926a-65285a98c2f5\">\n",
              "      Upload widget is only available when the cell has been executed in the\n",
              "      current browser session. Please rerun this cell to enable.\n",
              "      </output>\n",
              "      <script src=\"/nbextensions/google.colab/files.js\"></script> "
            ],
            "text/plain": [
              "<IPython.core.display.HTML object>"
            ]
          },
          "metadata": {}
        },
        {
          "output_type": "stream",
          "name": "stdout",
          "text": [
            "Saving kaggle.json to kaggle.json\n",
            "User uploaded file \"kaggle.json\"\n"
          ]
        }
      ]
    },
    {
      "cell_type": "code",
      "metadata": {
        "id": "PIXSQsXE2FRp"
      },
      "source": [
        "# Ubah permission file\n",
        "!chmod 600 /content/kaggle.json"
      ],
      "execution_count": 3,
      "outputs": []
    },
    {
      "cell_type": "code",
      "metadata": {
        "id": "OW28kkZB2IMH"
      },
      "source": [
        "# Setup Kaggle environment\n",
        "os.environ['KAGGLE_CONFIG_DIR'] = \"/content\""
      ],
      "execution_count": 4,
      "outputs": []
    },
    {
      "cell_type": "markdown",
      "metadata": {
        "id": "otCzB22-fLsE"
      },
      "source": [
        "### Mengunduh Dataset\n",
        "\n",
        "![Urinary biomarkers for pancreatic cancer dataset](https://i.postimg.cc/G2T1WCB3/Screenshot-6.png)"
      ]
    },
    {
      "cell_type": "markdown",
      "metadata": {
        "id": "8jBEdwbtfW3t"
      },
      "source": [
        "Informasi Dataset:\n",
        "\n",
        "Jenis | Keterangan\n",
        "--- | ---\n",
        "Title | Urinary biomarkers for pancreatic cancer\n",
        "Source | [Kaggle](https://www.kaggle.com/johnjdavisiv/urinary-biomarkers-for-pancreatic-cancer)\n",
        "Maintainer | [John Davis](https://www.kaggle.com/johnjdavisiv)\n",
        "License | Data files © Original Authors\n",
        "Visibility | Public\n",
        "Tags | biology, cancer, health conditions, beginner, binary classification, medicine\n",
        "Usability | 10.0"
      ]
    },
    {
      "cell_type": "code",
      "metadata": {
        "colab": {
          "base_uri": "https://localhost:8080/"
        },
        "id": "qO_NTVjz2Nfb",
        "outputId": "7d6250cf-2f63-48c2-9308-3da57b1d515c"
      },
      "source": [
        "# Download dataset\n",
        "!kaggle datasets download -d johnjdavisiv/urinary-biomarkers-for-pancreatic-cancer"
      ],
      "execution_count": 5,
      "outputs": [
        {
          "output_type": "stream",
          "name": "stdout",
          "text": [
            "Downloading urinary-biomarkers-for-pancreatic-cancer.zip to /content\n",
            "\r  0% 0.00/18.0k [00:00<?, ?B/s]\n",
            "\r100% 18.0k/18.0k [00:00<00:00, 7.01MB/s]\n"
          ]
        }
      ]
    },
    {
      "cell_type": "code",
      "metadata": {
        "id": "wQlqJtL-2QCy"
      },
      "source": [
        "# melakukan ekstraksi pada file zip\n",
        "local_zip = 'urinary-biomarkers-for-pancreatic-cancer.zip'\n",
        "zip_ref = zipfile.ZipFile(local_zip, 'r')\n",
        "zip_ref.extractall('/content/urinary-biomarkers-for-pancreatic-cancer/')\n",
        "zip_ref.close()"
      ],
      "execution_count": 6,
      "outputs": []
    },
    {
      "cell_type": "code",
      "metadata": {
        "id": "H0FakP7w2SFk"
      },
      "source": [
        "# Menghapus berkas zip yang sudah tidak diperlukan\n",
        "!rm urinary-biomarkers-for-pancreatic-cancer.zip"
      ],
      "execution_count": 7,
      "outputs": []
    },
    {
      "cell_type": "markdown",
      "metadata": {
        "id": "B0lJObNvgjVB"
      },
      "source": [
        "## Data Understanding"
      ]
    },
    {
      "cell_type": "markdown",
      "metadata": {
        "id": "LsYaTbZTJd2x"
      },
      "source": [
        "Langkah pertama untuk memahami data yaitu dengan melihat isi dari direktori dataset yang telah diunduh"
      ]
    },
    {
      "cell_type": "code",
      "metadata": {
        "colab": {
          "base_uri": "https://localhost:8080/"
        },
        "id": "aUISL-xg3CSO",
        "outputId": "d943eb78-22d5-48c7-e631-d6a30a06cf2b"
      },
      "source": [
        "# Cek isi direktori dataset\n",
        "os.listdir('/content/urinary-biomarkers-for-pancreatic-cancer')"
      ],
      "execution_count": 8,
      "outputs": [
        {
          "output_type": "execute_result",
          "data": {
            "text/plain": [
              "['Debernardi et al 2020 documentation.csv', 'Debernardi et al 2020 data.csv']"
            ]
          },
          "metadata": {},
          "execution_count": 8
        }
      ]
    },
    {
      "cell_type": "markdown",
      "metadata": {
        "id": "uGpXnCfzJnzq"
      },
      "source": [
        "Dari keluaran di atas, dapat diketahui bahwa ada dua berkas data, diantaranya adalah dataset utama dan berkas lainnya adalah merupakan dokumentasi.\n",
        "\n",
        "Mari kita lihat data dokumentasinya dengan menggunakan `pandas`"
      ]
    },
    {
      "cell_type": "code",
      "metadata": {
        "colab": {
          "base_uri": "https://localhost:8080/",
          "height": 483
        },
        "id": "5SBbe9L43OLf",
        "outputId": "0f809080-b754-4145-f88e-60ecbfbbaccd"
      },
      "source": [
        "# Cek dokumentasi dataset\n",
        "data_docs = pd.read_csv('/content/urinary-biomarkers-for-pancreatic-cancer/Debernardi et al 2020 documentation.csv')\n",
        "data_docs"
      ],
      "execution_count": 9,
      "outputs": [
        {
          "output_type": "execute_result",
          "data": {
            "text/html": [
              "<div>\n",
              "<style scoped>\n",
              "    .dataframe tbody tr th:only-of-type {\n",
              "        vertical-align: middle;\n",
              "    }\n",
              "\n",
              "    .dataframe tbody tr th {\n",
              "        vertical-align: top;\n",
              "    }\n",
              "\n",
              "    .dataframe thead th {\n",
              "        text-align: right;\n",
              "    }\n",
              "</style>\n",
              "<table border=\"1\" class=\"dataframe\">\n",
              "  <thead>\n",
              "    <tr style=\"text-align: right;\">\n",
              "      <th></th>\n",
              "      <th>Column name</th>\n",
              "      <th>Original column name</th>\n",
              "      <th>Details</th>\n",
              "    </tr>\n",
              "  </thead>\n",
              "  <tbody>\n",
              "    <tr>\n",
              "      <th>0</th>\n",
              "      <td>sample_id</td>\n",
              "      <td>Sample ID</td>\n",
              "      <td>Unique string identifying each subject</td>\n",
              "    </tr>\n",
              "    <tr>\n",
              "      <th>1</th>\n",
              "      <td>patient_cohort</td>\n",
              "      <td>Patient's Cohort</td>\n",
              "      <td>Cohort 1,  previously used samples; Cohort 2, ...</td>\n",
              "    </tr>\n",
              "    <tr>\n",
              "      <th>2</th>\n",
              "      <td>sample_origin</td>\n",
              "      <td>Sample Origin</td>\n",
              "      <td>BPTB: Barts Pancreas Tissue Bank, London, UK; ...</td>\n",
              "    </tr>\n",
              "    <tr>\n",
              "      <th>3</th>\n",
              "      <td>age</td>\n",
              "      <td>Age</td>\n",
              "      <td>Age in years</td>\n",
              "    </tr>\n",
              "    <tr>\n",
              "      <th>4</th>\n",
              "      <td>sex</td>\n",
              "      <td>Sex</td>\n",
              "      <td>M = male, F = female</td>\n",
              "    </tr>\n",
              "    <tr>\n",
              "      <th>5</th>\n",
              "      <td>diagnosis</td>\n",
              "      <td>Diagnosis (1=Control, 2=Benign, 3=PDAC)</td>\n",
              "      <td>1 = control (no pancreatic disease), 2 = benig...</td>\n",
              "    </tr>\n",
              "    <tr>\n",
              "      <th>6</th>\n",
              "      <td>stage</td>\n",
              "      <td>Stage</td>\n",
              "      <td>For those with pancratic cancer, what stage wa...</td>\n",
              "    </tr>\n",
              "    <tr>\n",
              "      <th>7</th>\n",
              "      <td>benign_sample_diagnosis</td>\n",
              "      <td>Benign Samples Diagnosis</td>\n",
              "      <td>For those with a benign, non-cancerous diagnos...</td>\n",
              "    </tr>\n",
              "    <tr>\n",
              "      <th>8</th>\n",
              "      <td>plasma_CA19_9</td>\n",
              "      <td>Plasma CA19-9 U/ml</td>\n",
              "      <td>Blood plasma levels of CA 19–9 monoclonal anti...</td>\n",
              "    </tr>\n",
              "    <tr>\n",
              "      <th>9</th>\n",
              "      <td>creatinine</td>\n",
              "      <td>Creatinine mg/ml</td>\n",
              "      <td>Urinary biomarker of kidney function</td>\n",
              "    </tr>\n",
              "    <tr>\n",
              "      <th>10</th>\n",
              "      <td>LYVE1</td>\n",
              "      <td>LYVE1 ng/ml</td>\n",
              "      <td>Urinary levels of Lymphatic vessel endothelial...</td>\n",
              "    </tr>\n",
              "    <tr>\n",
              "      <th>11</th>\n",
              "      <td>REG1B</td>\n",
              "      <td>REG1B ng/ml</td>\n",
              "      <td>Urinary levels of a protein that may be associ...</td>\n",
              "    </tr>\n",
              "    <tr>\n",
              "      <th>12</th>\n",
              "      <td>TFF1</td>\n",
              "      <td>TFF1 ng/ml</td>\n",
              "      <td>Urinary levels of Trefoil Factor 1, which may ...</td>\n",
              "    </tr>\n",
              "    <tr>\n",
              "      <th>13</th>\n",
              "      <td>REG1A</td>\n",
              "      <td>REG1A ng/ml</td>\n",
              "      <td>Urinary levels of a protein that may be associ...</td>\n",
              "    </tr>\n",
              "  </tbody>\n",
              "</table>\n",
              "</div>"
            ],
            "text/plain": [
              "                Column name  ...                                            Details\n",
              "0                 sample_id  ...             Unique string identifying each subject\n",
              "1            patient_cohort  ...  Cohort 1,  previously used samples; Cohort 2, ...\n",
              "2             sample_origin  ...  BPTB: Barts Pancreas Tissue Bank, London, UK; ...\n",
              "3                       age  ...                                       Age in years\n",
              "4                       sex  ...                               M = male, F = female\n",
              "5                 diagnosis  ...  1 = control (no pancreatic disease), 2 = benig...\n",
              "6                     stage  ...  For those with pancratic cancer, what stage wa...\n",
              "7   benign_sample_diagnosis  ...  For those with a benign, non-cancerous diagnos...\n",
              "8             plasma_CA19_9  ...  Blood plasma levels of CA 19–9 monoclonal anti...\n",
              "9                creatinine  ...               Urinary biomarker of kidney function\n",
              "10                    LYVE1  ...  Urinary levels of Lymphatic vessel endothelial...\n",
              "11                    REG1B  ...  Urinary levels of a protein that may be associ...\n",
              "12                     TFF1  ...  Urinary levels of Trefoil Factor 1, which may ...\n",
              "13                    REG1A  ...  Urinary levels of a protein that may be associ...\n",
              "\n",
              "[14 rows x 3 columns]"
            ]
          },
          "metadata": {},
          "execution_count": 9
        }
      ]
    },
    {
      "cell_type": "markdown",
      "metadata": {
        "id": "GKd16geRKClR"
      },
      "source": [
        "Dari keluaran di atas, menunjukkan bahwa dokumentasi ini berisi fitur yang ada pada dataset beserta penjelasannya. Namun string yang terlalu panjang terpotong dan tidak dapat dibaca dengan baik. Untuk itu perlu menyesuaikan lebar kolom terlebih dahulu untuk memunculkan semua teksnya."
      ]
    },
    {
      "cell_type": "code",
      "metadata": {
        "colab": {
          "base_uri": "https://localhost:8080/"
        },
        "id": "bUQJW53u4Bxs",
        "outputId": "9055f3ce-f646-428d-dc3c-5956d1660f8a"
      },
      "source": [
        "# Cek ukuran lebar kolom\n",
        "pd.options.display.max_colwidth"
      ],
      "execution_count": 10,
      "outputs": [
        {
          "output_type": "execute_result",
          "data": {
            "text/plain": [
              "50"
            ]
          },
          "metadata": {},
          "execution_count": 10
        }
      ]
    },
    {
      "cell_type": "code",
      "metadata": {
        "id": "GLRv2idx4hNK"
      },
      "source": [
        "# Memperlebar ukuran kolom\n",
        "pd.options.display.max_colwidth = 500"
      ],
      "execution_count": 11,
      "outputs": []
    },
    {
      "cell_type": "code",
      "metadata": {
        "colab": {
          "base_uri": "https://localhost:8080/",
          "height": 585
        },
        "id": "HgzAXlWh4kvM",
        "outputId": "28b73831-e126-4f9c-ea82-5601dac4e643"
      },
      "source": [
        "data_docs"
      ],
      "execution_count": 12,
      "outputs": [
        {
          "output_type": "execute_result",
          "data": {
            "text/html": [
              "<div>\n",
              "<style scoped>\n",
              "    .dataframe tbody tr th:only-of-type {\n",
              "        vertical-align: middle;\n",
              "    }\n",
              "\n",
              "    .dataframe tbody tr th {\n",
              "        vertical-align: top;\n",
              "    }\n",
              "\n",
              "    .dataframe thead th {\n",
              "        text-align: right;\n",
              "    }\n",
              "</style>\n",
              "<table border=\"1\" class=\"dataframe\">\n",
              "  <thead>\n",
              "    <tr style=\"text-align: right;\">\n",
              "      <th></th>\n",
              "      <th>Column name</th>\n",
              "      <th>Original column name</th>\n",
              "      <th>Details</th>\n",
              "    </tr>\n",
              "  </thead>\n",
              "  <tbody>\n",
              "    <tr>\n",
              "      <th>0</th>\n",
              "      <td>sample_id</td>\n",
              "      <td>Sample ID</td>\n",
              "      <td>Unique string identifying each subject</td>\n",
              "    </tr>\n",
              "    <tr>\n",
              "      <th>1</th>\n",
              "      <td>patient_cohort</td>\n",
              "      <td>Patient's Cohort</td>\n",
              "      <td>Cohort 1,  previously used samples; Cohort 2, newly added samples</td>\n",
              "    </tr>\n",
              "    <tr>\n",
              "      <th>2</th>\n",
              "      <td>sample_origin</td>\n",
              "      <td>Sample Origin</td>\n",
              "      <td>BPTB: Barts Pancreas Tissue Bank, London, UK; ESP: Spanish National Cancer Research Centre, Madrid, Spain; LIV: Liverpool University, UK; UCL: University College London, UK</td>\n",
              "    </tr>\n",
              "    <tr>\n",
              "      <th>3</th>\n",
              "      <td>age</td>\n",
              "      <td>Age</td>\n",
              "      <td>Age in years</td>\n",
              "    </tr>\n",
              "    <tr>\n",
              "      <th>4</th>\n",
              "      <td>sex</td>\n",
              "      <td>Sex</td>\n",
              "      <td>M = male, F = female</td>\n",
              "    </tr>\n",
              "    <tr>\n",
              "      <th>5</th>\n",
              "      <td>diagnosis</td>\n",
              "      <td>Diagnosis (1=Control, 2=Benign, 3=PDAC)</td>\n",
              "      <td>1 = control (no pancreatic disease), 2 = benign hepatobiliary disease (119 of which are chronic pancreatitis); 3 = Pancreatic ductal adenocarcinoma, i.e. pancreatic cancer</td>\n",
              "    </tr>\n",
              "    <tr>\n",
              "      <th>6</th>\n",
              "      <td>stage</td>\n",
              "      <td>Stage</td>\n",
              "      <td>For those with pancratic cancer, what stage was it? One of IA, IB, IIA, IIIB, III, IV</td>\n",
              "    </tr>\n",
              "    <tr>\n",
              "      <th>7</th>\n",
              "      <td>benign_sample_diagnosis</td>\n",
              "      <td>Benign Samples Diagnosis</td>\n",
              "      <td>For those with a benign, non-cancerous diagnosis, what was the diagnosis?</td>\n",
              "    </tr>\n",
              "    <tr>\n",
              "      <th>8</th>\n",
              "      <td>plasma_CA19_9</td>\n",
              "      <td>Plasma CA19-9 U/ml</td>\n",
              "      <td>Blood plasma levels of CA 19–9 monoclonal antibody that is often elevated in patients with pancreatic cancer. Only assessed in 350 patients (one goal of the study was to compare various CA 19-9 cutpoints from a blood sample to the model developed using urinary samples).</td>\n",
              "    </tr>\n",
              "    <tr>\n",
              "      <th>9</th>\n",
              "      <td>creatinine</td>\n",
              "      <td>Creatinine mg/ml</td>\n",
              "      <td>Urinary biomarker of kidney function</td>\n",
              "    </tr>\n",
              "    <tr>\n",
              "      <th>10</th>\n",
              "      <td>LYVE1</td>\n",
              "      <td>LYVE1 ng/ml</td>\n",
              "      <td>Urinary levels of Lymphatic vessel endothelial hyaluronan receptor 1, a protein that may play a role in tumor metastasis</td>\n",
              "    </tr>\n",
              "    <tr>\n",
              "      <th>11</th>\n",
              "      <td>REG1B</td>\n",
              "      <td>REG1B ng/ml</td>\n",
              "      <td>Urinary levels of a protein that may be associated with pancreas regeneration.</td>\n",
              "    </tr>\n",
              "    <tr>\n",
              "      <th>12</th>\n",
              "      <td>TFF1</td>\n",
              "      <td>TFF1 ng/ml</td>\n",
              "      <td>Urinary levels of Trefoil Factor 1, which may be related to regeneration and repair of the urinary tract</td>\n",
              "    </tr>\n",
              "    <tr>\n",
              "      <th>13</th>\n",
              "      <td>REG1A</td>\n",
              "      <td>REG1A ng/ml</td>\n",
              "      <td>Urinary levels of a protein that may be associated with pancreas regeneration. Only assessed in 306 patients (one goal of the study was to assess REG1B vs REG1A)</td>\n",
              "    </tr>\n",
              "  </tbody>\n",
              "</table>\n",
              "</div>"
            ],
            "text/plain": [
              "                Column name  ...                                                                                                                                                                                                                                                                         Details\n",
              "0                 sample_id  ...                                                                                                                                                                                                                                          Unique string identifying each subject\n",
              "1            patient_cohort  ...                                                                                                                                                                                                               Cohort 1,  previously used samples; Cohort 2, newly added samples\n",
              "2             sample_origin  ...                                                                                                    BPTB: Barts Pancreas Tissue Bank, London, UK; ESP: Spanish National Cancer Research Centre, Madrid, Spain; LIV: Liverpool University, UK; UCL: University College London, UK\n",
              "3                       age  ...                                                                                                                                                                                                                                                                    Age in years\n",
              "4                       sex  ...                                                                                                                                                                                                                                                            M = male, F = female\n",
              "5                 diagnosis  ...                                                                                                     1 = control (no pancreatic disease), 2 = benign hepatobiliary disease (119 of which are chronic pancreatitis); 3 = Pancreatic ductal adenocarcinoma, i.e. pancreatic cancer\n",
              "6                     stage  ...                                                                                                                                                                                           For those with pancratic cancer, what stage was it? One of IA, IB, IIA, IIIB, III, IV\n",
              "7   benign_sample_diagnosis  ...                                                                                                                                                                                                       For those with a benign, non-cancerous diagnosis, what was the diagnosis?\n",
              "8             plasma_CA19_9  ...  Blood plasma levels of CA 19–9 monoclonal antibody that is often elevated in patients with pancreatic cancer. Only assessed in 350 patients (one goal of the study was to compare various CA 19-9 cutpoints from a blood sample to the model developed using urinary samples).\n",
              "9                creatinine  ...                                                                                                                                                                                                                                            Urinary biomarker of kidney function\n",
              "10                    LYVE1  ...                                                                                                                                                        Urinary levels of Lymphatic vessel endothelial hyaluronan receptor 1, a protein that may play a role in tumor metastasis\n",
              "11                    REG1B  ...                                                                                                                                                                                                  Urinary levels of a protein that may be associated with pancreas regeneration.\n",
              "12                     TFF1  ...                                                                                                                                                                        Urinary levels of Trefoil Factor 1, which may be related to regeneration and repair of the urinary tract\n",
              "13                    REG1A  ...                                                                                                               Urinary levels of a protein that may be associated with pancreas regeneration. Only assessed in 306 patients (one goal of the study was to assess REG1B vs REG1A)\n",
              "\n",
              "[14 rows x 3 columns]"
            ]
          },
          "metadata": {},
          "execution_count": 12
        }
      ]
    },
    {
      "cell_type": "markdown",
      "metadata": {
        "id": "vopMZvAcKdFq"
      },
      "source": [
        "Dari dataframe di atas kita dapat melihat bahwa pada dataset ini terdapat 14 kolom. Diantaranya:\n",
        "\n",
        "1. `sample_id` : merupakan string unik yang mengidentifikasi setiap subjek\n",
        "2. `patient_cohort` : menyatakan kelompok pasien, memiliki 2 nilai, yaitu *Cohort 1*, sampel yang sebelumnya digunakan; *Cohort 2*, sampel yang baru ditambahkan\n",
        "3. `sample_origin` : menyatakan sumber sampel data\n",
        "4. `age` : menyatakan usia pasien dalam tahun\n",
        "5. `sex` : menyatakan jenis kelamin pasien (M=Pria, F=Wanita)\n",
        "6. `diagnosis` : menyatakan diagnosis (1=sehat, 2=benign hepatobiliary disease/bukan kanker, 3=kanker pankreas)\n",
        "7. `stage` : menyatakan tingkat kanker pankreas yang diderita pasien (IA, IB, IIA, IIIB, III, IV)\n",
        "8. `benign_sample_diagnosis` : diagnosis untuk mereka penderita benign hepatobiliary disease / non-kanker\n",
        "9. `plasma_CA19_9` : Kadar plasma darah dari antibodi monoklonal CA 19-9 yang sering meningkat pada pasien dengan kanker pankreas. \n",
        "10. `creatinine\t` : Biomarker urin dari fungsi ginjal\n",
        "11. `LYVE1` : Tingkat urin reseptor *Lymphatic vessel endothelial hyaluronan* 1, protein yang mungkin berperan dalam metastasis tumor\n",
        "12. `REG1B` : Kadar protein urin yang mungkin terkait dengan regenerasi pankreas\n",
        "13. `TFF1` : Tingkat urin *Trefoil Factor* 1, yang mungkin terkait dengan regenerasi dan perbaikan saluran kemih.\n",
        "14. `REG1A` : Kadar protein urin yang mungkin berhubungan dengan regenerasi pankreas."
      ]
    },
    {
      "cell_type": "markdown",
      "metadata": {
        "id": "2BpzpPdfPxIw"
      },
      "source": [
        "Kita dapat melihat isi dari datasetnya menggunakan pandas sebagai berikut."
      ]
    },
    {
      "cell_type": "code",
      "metadata": {
        "colab": {
          "base_uri": "https://localhost:8080/",
          "height": 439
        },
        "id": "vfYPiCx55rme",
        "outputId": "56f69f33-fd02-4b62-a3cb-cf014a12b5ae"
      },
      "source": [
        "# Memuat dataset\n",
        "df = pd.read_csv('/content/urinary-biomarkers-for-pancreatic-cancer/Debernardi et al 2020 data.csv')\n",
        "df"
      ],
      "execution_count": 13,
      "outputs": [
        {
          "output_type": "execute_result",
          "data": {
            "text/html": [
              "<div>\n",
              "<style scoped>\n",
              "    .dataframe tbody tr th:only-of-type {\n",
              "        vertical-align: middle;\n",
              "    }\n",
              "\n",
              "    .dataframe tbody tr th {\n",
              "        vertical-align: top;\n",
              "    }\n",
              "\n",
              "    .dataframe thead th {\n",
              "        text-align: right;\n",
              "    }\n",
              "</style>\n",
              "<table border=\"1\" class=\"dataframe\">\n",
              "  <thead>\n",
              "    <tr style=\"text-align: right;\">\n",
              "      <th></th>\n",
              "      <th>sample_id</th>\n",
              "      <th>patient_cohort</th>\n",
              "      <th>sample_origin</th>\n",
              "      <th>age</th>\n",
              "      <th>sex</th>\n",
              "      <th>diagnosis</th>\n",
              "      <th>stage</th>\n",
              "      <th>benign_sample_diagnosis</th>\n",
              "      <th>plasma_CA19_9</th>\n",
              "      <th>creatinine</th>\n",
              "      <th>LYVE1</th>\n",
              "      <th>REG1B</th>\n",
              "      <th>TFF1</th>\n",
              "      <th>REG1A</th>\n",
              "    </tr>\n",
              "  </thead>\n",
              "  <tbody>\n",
              "    <tr>\n",
              "      <th>0</th>\n",
              "      <td>S1</td>\n",
              "      <td>Cohort1</td>\n",
              "      <td>BPTB</td>\n",
              "      <td>33</td>\n",
              "      <td>F</td>\n",
              "      <td>1</td>\n",
              "      <td>NaN</td>\n",
              "      <td>NaN</td>\n",
              "      <td>11.7</td>\n",
              "      <td>1.83222</td>\n",
              "      <td>0.893219</td>\n",
              "      <td>52.948840</td>\n",
              "      <td>654.282174</td>\n",
              "      <td>1262.000</td>\n",
              "    </tr>\n",
              "    <tr>\n",
              "      <th>1</th>\n",
              "      <td>S10</td>\n",
              "      <td>Cohort1</td>\n",
              "      <td>BPTB</td>\n",
              "      <td>81</td>\n",
              "      <td>F</td>\n",
              "      <td>1</td>\n",
              "      <td>NaN</td>\n",
              "      <td>NaN</td>\n",
              "      <td>NaN</td>\n",
              "      <td>0.97266</td>\n",
              "      <td>2.037585</td>\n",
              "      <td>94.467030</td>\n",
              "      <td>209.488250</td>\n",
              "      <td>228.407</td>\n",
              "    </tr>\n",
              "    <tr>\n",
              "      <th>2</th>\n",
              "      <td>S100</td>\n",
              "      <td>Cohort2</td>\n",
              "      <td>BPTB</td>\n",
              "      <td>51</td>\n",
              "      <td>M</td>\n",
              "      <td>1</td>\n",
              "      <td>NaN</td>\n",
              "      <td>NaN</td>\n",
              "      <td>7.0</td>\n",
              "      <td>0.78039</td>\n",
              "      <td>0.145589</td>\n",
              "      <td>102.366000</td>\n",
              "      <td>461.141000</td>\n",
              "      <td>NaN</td>\n",
              "    </tr>\n",
              "    <tr>\n",
              "      <th>3</th>\n",
              "      <td>S101</td>\n",
              "      <td>Cohort2</td>\n",
              "      <td>BPTB</td>\n",
              "      <td>61</td>\n",
              "      <td>M</td>\n",
              "      <td>1</td>\n",
              "      <td>NaN</td>\n",
              "      <td>NaN</td>\n",
              "      <td>8.0</td>\n",
              "      <td>0.70122</td>\n",
              "      <td>0.002805</td>\n",
              "      <td>60.579000</td>\n",
              "      <td>142.950000</td>\n",
              "      <td>NaN</td>\n",
              "    </tr>\n",
              "    <tr>\n",
              "      <th>4</th>\n",
              "      <td>S102</td>\n",
              "      <td>Cohort2</td>\n",
              "      <td>BPTB</td>\n",
              "      <td>62</td>\n",
              "      <td>M</td>\n",
              "      <td>1</td>\n",
              "      <td>NaN</td>\n",
              "      <td>NaN</td>\n",
              "      <td>9.0</td>\n",
              "      <td>0.21489</td>\n",
              "      <td>0.000860</td>\n",
              "      <td>65.540000</td>\n",
              "      <td>41.088000</td>\n",
              "      <td>NaN</td>\n",
              "    </tr>\n",
              "    <tr>\n",
              "      <th>...</th>\n",
              "      <td>...</td>\n",
              "      <td>...</td>\n",
              "      <td>...</td>\n",
              "      <td>...</td>\n",
              "      <td>...</td>\n",
              "      <td>...</td>\n",
              "      <td>...</td>\n",
              "      <td>...</td>\n",
              "      <td>...</td>\n",
              "      <td>...</td>\n",
              "      <td>...</td>\n",
              "      <td>...</td>\n",
              "      <td>...</td>\n",
              "      <td>...</td>\n",
              "    </tr>\n",
              "    <tr>\n",
              "      <th>585</th>\n",
              "      <td>S549</td>\n",
              "      <td>Cohort2</td>\n",
              "      <td>BPTB</td>\n",
              "      <td>68</td>\n",
              "      <td>M</td>\n",
              "      <td>3</td>\n",
              "      <td>IV</td>\n",
              "      <td>NaN</td>\n",
              "      <td>NaN</td>\n",
              "      <td>0.52026</td>\n",
              "      <td>7.058209</td>\n",
              "      <td>156.241000</td>\n",
              "      <td>525.178000</td>\n",
              "      <td>NaN</td>\n",
              "    </tr>\n",
              "    <tr>\n",
              "      <th>586</th>\n",
              "      <td>S558</td>\n",
              "      <td>Cohort2</td>\n",
              "      <td>BPTB</td>\n",
              "      <td>71</td>\n",
              "      <td>F</td>\n",
              "      <td>3</td>\n",
              "      <td>IV</td>\n",
              "      <td>NaN</td>\n",
              "      <td>NaN</td>\n",
              "      <td>0.85956</td>\n",
              "      <td>8.341207</td>\n",
              "      <td>16.915000</td>\n",
              "      <td>245.947000</td>\n",
              "      <td>NaN</td>\n",
              "    </tr>\n",
              "    <tr>\n",
              "      <th>587</th>\n",
              "      <td>S560</td>\n",
              "      <td>Cohort2</td>\n",
              "      <td>BPTB</td>\n",
              "      <td>63</td>\n",
              "      <td>M</td>\n",
              "      <td>3</td>\n",
              "      <td>IV</td>\n",
              "      <td>NaN</td>\n",
              "      <td>NaN</td>\n",
              "      <td>1.36851</td>\n",
              "      <td>7.674707</td>\n",
              "      <td>289.701000</td>\n",
              "      <td>537.286000</td>\n",
              "      <td>NaN</td>\n",
              "    </tr>\n",
              "    <tr>\n",
              "      <th>588</th>\n",
              "      <td>S583</td>\n",
              "      <td>Cohort2</td>\n",
              "      <td>BPTB</td>\n",
              "      <td>75</td>\n",
              "      <td>F</td>\n",
              "      <td>3</td>\n",
              "      <td>IV</td>\n",
              "      <td>NaN</td>\n",
              "      <td>NaN</td>\n",
              "      <td>1.33458</td>\n",
              "      <td>8.206777</td>\n",
              "      <td>205.930000</td>\n",
              "      <td>722.523000</td>\n",
              "      <td>NaN</td>\n",
              "    </tr>\n",
              "    <tr>\n",
              "      <th>589</th>\n",
              "      <td>S590</td>\n",
              "      <td>Cohort1</td>\n",
              "      <td>BPTB</td>\n",
              "      <td>74</td>\n",
              "      <td>M</td>\n",
              "      <td>3</td>\n",
              "      <td>IV</td>\n",
              "      <td>NaN</td>\n",
              "      <td>1488.0</td>\n",
              "      <td>1.50423</td>\n",
              "      <td>8.200958</td>\n",
              "      <td>411.938275</td>\n",
              "      <td>2021.321078</td>\n",
              "      <td>13200.000</td>\n",
              "    </tr>\n",
              "  </tbody>\n",
              "</table>\n",
              "<p>590 rows × 14 columns</p>\n",
              "</div>"
            ],
            "text/plain": [
              "    sample_id patient_cohort sample_origin  ...       REG1B         TFF1      REG1A\n",
              "0          S1        Cohort1          BPTB  ...   52.948840   654.282174   1262.000\n",
              "1         S10        Cohort1          BPTB  ...   94.467030   209.488250    228.407\n",
              "2        S100        Cohort2          BPTB  ...  102.366000   461.141000        NaN\n",
              "3        S101        Cohort2          BPTB  ...   60.579000   142.950000        NaN\n",
              "4        S102        Cohort2          BPTB  ...   65.540000    41.088000        NaN\n",
              "..        ...            ...           ...  ...         ...          ...        ...\n",
              "585      S549        Cohort2          BPTB  ...  156.241000   525.178000        NaN\n",
              "586      S558        Cohort2          BPTB  ...   16.915000   245.947000        NaN\n",
              "587      S560        Cohort2          BPTB  ...  289.701000   537.286000        NaN\n",
              "588      S583        Cohort2          BPTB  ...  205.930000   722.523000        NaN\n",
              "589      S590        Cohort1          BPTB  ...  411.938275  2021.321078  13200.000\n",
              "\n",
              "[590 rows x 14 columns]"
            ]
          },
          "metadata": {},
          "execution_count": 13
        }
      ]
    },
    {
      "cell_type": "markdown",
      "metadata": {
        "id": "PpORIf8rP28R"
      },
      "source": [
        "Dari keluaran di atas dapat diketahui bahwa dataset yang akan digunakan memiliki 590 sampel atau baris data dengan 14 kolom."
      ]
    },
    {
      "cell_type": "code",
      "metadata": {
        "colab": {
          "base_uri": "https://localhost:8080/"
        },
        "id": "KW_cA2rY59tt",
        "outputId": "9edf41fa-e225-4624-8580-5dd66665d71b"
      },
      "source": [
        "df.info()"
      ],
      "execution_count": 14,
      "outputs": [
        {
          "output_type": "stream",
          "name": "stdout",
          "text": [
            "<class 'pandas.core.frame.DataFrame'>\n",
            "RangeIndex: 590 entries, 0 to 589\n",
            "Data columns (total 14 columns):\n",
            " #   Column                   Non-Null Count  Dtype  \n",
            "---  ------                   --------------  -----  \n",
            " 0   sample_id                590 non-null    object \n",
            " 1   patient_cohort           590 non-null    object \n",
            " 2   sample_origin            590 non-null    object \n",
            " 3   age                      590 non-null    int64  \n",
            " 4   sex                      590 non-null    object \n",
            " 5   diagnosis                590 non-null    int64  \n",
            " 6   stage                    199 non-null    object \n",
            " 7   benign_sample_diagnosis  208 non-null    object \n",
            " 8   plasma_CA19_9            350 non-null    float64\n",
            " 9   creatinine               590 non-null    float64\n",
            " 10  LYVE1                    590 non-null    float64\n",
            " 11  REG1B                    590 non-null    float64\n",
            " 12  TFF1                     590 non-null    float64\n",
            " 13  REG1A                    306 non-null    float64\n",
            "dtypes: float64(6), int64(2), object(6)\n",
            "memory usage: 64.7+ KB\n"
          ]
        }
      ]
    },
    {
      "cell_type": "markdown",
      "metadata": {
        "id": "ZaGi9ff2QBwH"
      },
      "source": [
        "Dari eksekusi method `info()` dapat diketahui bahwa terdapat banyak *missing value* di beberapa kolom, diantaranya pada `stage`, `benign_sample_diagnosis`, `plasma_CA19_9`, dan `REG1A`"
      ]
    },
    {
      "cell_type": "code",
      "metadata": {
        "colab": {
          "base_uri": "https://localhost:8080/",
          "height": 297
        },
        "id": "FsoTOaek6ALB",
        "outputId": "ddd15c0c-ceee-48c4-8aa5-c2649cce97be"
      },
      "source": [
        "df.describe()"
      ],
      "execution_count": 15,
      "outputs": [
        {
          "output_type": "execute_result",
          "data": {
            "text/html": [
              "<div>\n",
              "<style scoped>\n",
              "    .dataframe tbody tr th:only-of-type {\n",
              "        vertical-align: middle;\n",
              "    }\n",
              "\n",
              "    .dataframe tbody tr th {\n",
              "        vertical-align: top;\n",
              "    }\n",
              "\n",
              "    .dataframe thead th {\n",
              "        text-align: right;\n",
              "    }\n",
              "</style>\n",
              "<table border=\"1\" class=\"dataframe\">\n",
              "  <thead>\n",
              "    <tr style=\"text-align: right;\">\n",
              "      <th></th>\n",
              "      <th>age</th>\n",
              "      <th>diagnosis</th>\n",
              "      <th>plasma_CA19_9</th>\n",
              "      <th>creatinine</th>\n",
              "      <th>LYVE1</th>\n",
              "      <th>REG1B</th>\n",
              "      <th>TFF1</th>\n",
              "      <th>REG1A</th>\n",
              "    </tr>\n",
              "  </thead>\n",
              "  <tbody>\n",
              "    <tr>\n",
              "      <th>count</th>\n",
              "      <td>590.000000</td>\n",
              "      <td>590.000000</td>\n",
              "      <td>350.000000</td>\n",
              "      <td>590.000000</td>\n",
              "      <td>590.000000</td>\n",
              "      <td>590.000000</td>\n",
              "      <td>590.000000</td>\n",
              "      <td>306.000000</td>\n",
              "    </tr>\n",
              "    <tr>\n",
              "      <th>mean</th>\n",
              "      <td>59.079661</td>\n",
              "      <td>2.027119</td>\n",
              "      <td>654.002944</td>\n",
              "      <td>0.855383</td>\n",
              "      <td>3.063530</td>\n",
              "      <td>111.774090</td>\n",
              "      <td>597.868722</td>\n",
              "      <td>735.281222</td>\n",
              "    </tr>\n",
              "    <tr>\n",
              "      <th>std</th>\n",
              "      <td>13.109520</td>\n",
              "      <td>0.804873</td>\n",
              "      <td>2430.317642</td>\n",
              "      <td>0.639028</td>\n",
              "      <td>3.438796</td>\n",
              "      <td>196.267110</td>\n",
              "      <td>1010.477245</td>\n",
              "      <td>1477.247724</td>\n",
              "    </tr>\n",
              "    <tr>\n",
              "      <th>min</th>\n",
              "      <td>26.000000</td>\n",
              "      <td>1.000000</td>\n",
              "      <td>0.000000</td>\n",
              "      <td>0.056550</td>\n",
              "      <td>0.000129</td>\n",
              "      <td>0.001104</td>\n",
              "      <td>0.005293</td>\n",
              "      <td>0.000000</td>\n",
              "    </tr>\n",
              "    <tr>\n",
              "      <th>25%</th>\n",
              "      <td>50.000000</td>\n",
              "      <td>1.000000</td>\n",
              "      <td>8.000000</td>\n",
              "      <td>0.373230</td>\n",
              "      <td>0.167179</td>\n",
              "      <td>10.757216</td>\n",
              "      <td>43.961000</td>\n",
              "      <td>80.692000</td>\n",
              "    </tr>\n",
              "    <tr>\n",
              "      <th>50%</th>\n",
              "      <td>60.000000</td>\n",
              "      <td>2.000000</td>\n",
              "      <td>26.500000</td>\n",
              "      <td>0.723840</td>\n",
              "      <td>1.649862</td>\n",
              "      <td>34.303353</td>\n",
              "      <td>259.873974</td>\n",
              "      <td>208.538500</td>\n",
              "    </tr>\n",
              "    <tr>\n",
              "      <th>75%</th>\n",
              "      <td>69.000000</td>\n",
              "      <td>3.000000</td>\n",
              "      <td>294.000000</td>\n",
              "      <td>1.139482</td>\n",
              "      <td>5.205037</td>\n",
              "      <td>122.741013</td>\n",
              "      <td>742.736000</td>\n",
              "      <td>649.000000</td>\n",
              "    </tr>\n",
              "    <tr>\n",
              "      <th>max</th>\n",
              "      <td>89.000000</td>\n",
              "      <td>3.000000</td>\n",
              "      <td>31000.000000</td>\n",
              "      <td>4.116840</td>\n",
              "      <td>23.890323</td>\n",
              "      <td>1403.897600</td>\n",
              "      <td>13344.300000</td>\n",
              "      <td>13200.000000</td>\n",
              "    </tr>\n",
              "  </tbody>\n",
              "</table>\n",
              "</div>"
            ],
            "text/plain": [
              "              age   diagnosis  ...          TFF1         REG1A\n",
              "count  590.000000  590.000000  ...    590.000000    306.000000\n",
              "mean    59.079661    2.027119  ...    597.868722    735.281222\n",
              "std     13.109520    0.804873  ...   1010.477245   1477.247724\n",
              "min     26.000000    1.000000  ...      0.005293      0.000000\n",
              "25%     50.000000    1.000000  ...     43.961000     80.692000\n",
              "50%     60.000000    2.000000  ...    259.873974    208.538500\n",
              "75%     69.000000    3.000000  ...    742.736000    649.000000\n",
              "max     89.000000    3.000000  ...  13344.300000  13200.000000\n",
              "\n",
              "[8 rows x 8 columns]"
            ]
          },
          "metadata": {},
          "execution_count": 15
        }
      ]
    },
    {
      "cell_type": "markdown",
      "metadata": {
        "id": "Z7WyohtEGY4C"
      },
      "source": [
        "## Data Preparation"
      ]
    },
    {
      "cell_type": "markdown",
      "metadata": {
        "id": "NvF-_mAzRQF9"
      },
      "source": [
        "### Menghapus Fitur yang Tidak Perlu\n",
        "\n",
        "Pada proyek ini berfokus pada diagnosa apakah pasien menderita kanker pankreas atau tidak. Untuk itu beberapa kolom yang dirasa kurang diperlukan dapat di-drop."
      ]
    },
    {
      "cell_type": "code",
      "metadata": {
        "colab": {
          "base_uri": "https://localhost:8080/",
          "height": 204
        },
        "id": "r4pkHe-r7Ekr",
        "outputId": "d09202ee-4191-4679-fcc8-e000c4629b28"
      },
      "source": [
        "# Menghapus kolom yang tidak diperlukan\n",
        "df = df.drop(columns=['sample_id','patient_cohort','sample_origin','stage','benign_sample_diagnosis'])\n",
        "df.head()"
      ],
      "execution_count": 16,
      "outputs": [
        {
          "output_type": "execute_result",
          "data": {
            "text/html": [
              "<div>\n",
              "<style scoped>\n",
              "    .dataframe tbody tr th:only-of-type {\n",
              "        vertical-align: middle;\n",
              "    }\n",
              "\n",
              "    .dataframe tbody tr th {\n",
              "        vertical-align: top;\n",
              "    }\n",
              "\n",
              "    .dataframe thead th {\n",
              "        text-align: right;\n",
              "    }\n",
              "</style>\n",
              "<table border=\"1\" class=\"dataframe\">\n",
              "  <thead>\n",
              "    <tr style=\"text-align: right;\">\n",
              "      <th></th>\n",
              "      <th>age</th>\n",
              "      <th>sex</th>\n",
              "      <th>diagnosis</th>\n",
              "      <th>plasma_CA19_9</th>\n",
              "      <th>creatinine</th>\n",
              "      <th>LYVE1</th>\n",
              "      <th>REG1B</th>\n",
              "      <th>TFF1</th>\n",
              "      <th>REG1A</th>\n",
              "    </tr>\n",
              "  </thead>\n",
              "  <tbody>\n",
              "    <tr>\n",
              "      <th>0</th>\n",
              "      <td>33</td>\n",
              "      <td>F</td>\n",
              "      <td>1</td>\n",
              "      <td>11.7</td>\n",
              "      <td>1.83222</td>\n",
              "      <td>0.893219</td>\n",
              "      <td>52.94884</td>\n",
              "      <td>654.282174</td>\n",
              "      <td>1262.000</td>\n",
              "    </tr>\n",
              "    <tr>\n",
              "      <th>1</th>\n",
              "      <td>81</td>\n",
              "      <td>F</td>\n",
              "      <td>1</td>\n",
              "      <td>NaN</td>\n",
              "      <td>0.97266</td>\n",
              "      <td>2.037585</td>\n",
              "      <td>94.46703</td>\n",
              "      <td>209.488250</td>\n",
              "      <td>228.407</td>\n",
              "    </tr>\n",
              "    <tr>\n",
              "      <th>2</th>\n",
              "      <td>51</td>\n",
              "      <td>M</td>\n",
              "      <td>1</td>\n",
              "      <td>7.0</td>\n",
              "      <td>0.78039</td>\n",
              "      <td>0.145589</td>\n",
              "      <td>102.36600</td>\n",
              "      <td>461.141000</td>\n",
              "      <td>NaN</td>\n",
              "    </tr>\n",
              "    <tr>\n",
              "      <th>3</th>\n",
              "      <td>61</td>\n",
              "      <td>M</td>\n",
              "      <td>1</td>\n",
              "      <td>8.0</td>\n",
              "      <td>0.70122</td>\n",
              "      <td>0.002805</td>\n",
              "      <td>60.57900</td>\n",
              "      <td>142.950000</td>\n",
              "      <td>NaN</td>\n",
              "    </tr>\n",
              "    <tr>\n",
              "      <th>4</th>\n",
              "      <td>62</td>\n",
              "      <td>M</td>\n",
              "      <td>1</td>\n",
              "      <td>9.0</td>\n",
              "      <td>0.21489</td>\n",
              "      <td>0.000860</td>\n",
              "      <td>65.54000</td>\n",
              "      <td>41.088000</td>\n",
              "      <td>NaN</td>\n",
              "    </tr>\n",
              "  </tbody>\n",
              "</table>\n",
              "</div>"
            ],
            "text/plain": [
              "   age sex  diagnosis  plasma_CA19_9  ...     LYVE1      REG1B        TFF1     REG1A\n",
              "0   33   F          1           11.7  ...  0.893219   52.94884  654.282174  1262.000\n",
              "1   81   F          1            NaN  ...  2.037585   94.46703  209.488250   228.407\n",
              "2   51   M          1            7.0  ...  0.145589  102.36600  461.141000       NaN\n",
              "3   61   M          1            8.0  ...  0.002805   60.57900  142.950000       NaN\n",
              "4   62   M          1            9.0  ...  0.000860   65.54000   41.088000       NaN\n",
              "\n",
              "[5 rows x 9 columns]"
            ]
          },
          "metadata": {},
          "execution_count": 16
        }
      ]
    },
    {
      "cell_type": "markdown",
      "metadata": {
        "id": "9ocH4GpBRaPD"
      },
      "source": [
        "### Penanganan Missing Value\n",
        "\n",
        "Seperti yang telah diketahui sebelumnya pada tahap Data Understanding, dataset ini memiliki beberapa kolom dengan missing value. Jumlah missing value-nya pun cukup banyak sehingga tidak dapat di-drop begitu saja. Untuk itu perlu penanganan berupa mengisinya dengan nilai rata-rata atau mean."
      ]
    },
    {
      "cell_type": "code",
      "metadata": {
        "colab": {
          "base_uri": "https://localhost:8080/",
          "height": 204
        },
        "id": "DpYAEJ7D64-W",
        "outputId": "bc811cba-3c38-45c4-ca32-186636d1da2d"
      },
      "source": [
        "# Handling missing value dengan nilai rata-rata\n",
        "for i in df[:]:\n",
        "    if i!='sex':\n",
        "        df[i] = df[i].fillna(df[i].mean())\n",
        "df.head()"
      ],
      "execution_count": 17,
      "outputs": [
        {
          "output_type": "execute_result",
          "data": {
            "text/html": [
              "<div>\n",
              "<style scoped>\n",
              "    .dataframe tbody tr th:only-of-type {\n",
              "        vertical-align: middle;\n",
              "    }\n",
              "\n",
              "    .dataframe tbody tr th {\n",
              "        vertical-align: top;\n",
              "    }\n",
              "\n",
              "    .dataframe thead th {\n",
              "        text-align: right;\n",
              "    }\n",
              "</style>\n",
              "<table border=\"1\" class=\"dataframe\">\n",
              "  <thead>\n",
              "    <tr style=\"text-align: right;\">\n",
              "      <th></th>\n",
              "      <th>age</th>\n",
              "      <th>sex</th>\n",
              "      <th>diagnosis</th>\n",
              "      <th>plasma_CA19_9</th>\n",
              "      <th>creatinine</th>\n",
              "      <th>LYVE1</th>\n",
              "      <th>REG1B</th>\n",
              "      <th>TFF1</th>\n",
              "      <th>REG1A</th>\n",
              "    </tr>\n",
              "  </thead>\n",
              "  <tbody>\n",
              "    <tr>\n",
              "      <th>0</th>\n",
              "      <td>33</td>\n",
              "      <td>F</td>\n",
              "      <td>1</td>\n",
              "      <td>11.700000</td>\n",
              "      <td>1.83222</td>\n",
              "      <td>0.893219</td>\n",
              "      <td>52.94884</td>\n",
              "      <td>654.282174</td>\n",
              "      <td>1262.000000</td>\n",
              "    </tr>\n",
              "    <tr>\n",
              "      <th>1</th>\n",
              "      <td>81</td>\n",
              "      <td>F</td>\n",
              "      <td>1</td>\n",
              "      <td>654.002944</td>\n",
              "      <td>0.97266</td>\n",
              "      <td>2.037585</td>\n",
              "      <td>94.46703</td>\n",
              "      <td>209.488250</td>\n",
              "      <td>228.407000</td>\n",
              "    </tr>\n",
              "    <tr>\n",
              "      <th>2</th>\n",
              "      <td>51</td>\n",
              "      <td>M</td>\n",
              "      <td>1</td>\n",
              "      <td>7.000000</td>\n",
              "      <td>0.78039</td>\n",
              "      <td>0.145589</td>\n",
              "      <td>102.36600</td>\n",
              "      <td>461.141000</td>\n",
              "      <td>735.281222</td>\n",
              "    </tr>\n",
              "    <tr>\n",
              "      <th>3</th>\n",
              "      <td>61</td>\n",
              "      <td>M</td>\n",
              "      <td>1</td>\n",
              "      <td>8.000000</td>\n",
              "      <td>0.70122</td>\n",
              "      <td>0.002805</td>\n",
              "      <td>60.57900</td>\n",
              "      <td>142.950000</td>\n",
              "      <td>735.281222</td>\n",
              "    </tr>\n",
              "    <tr>\n",
              "      <th>4</th>\n",
              "      <td>62</td>\n",
              "      <td>M</td>\n",
              "      <td>1</td>\n",
              "      <td>9.000000</td>\n",
              "      <td>0.21489</td>\n",
              "      <td>0.000860</td>\n",
              "      <td>65.54000</td>\n",
              "      <td>41.088000</td>\n",
              "      <td>735.281222</td>\n",
              "    </tr>\n",
              "  </tbody>\n",
              "</table>\n",
              "</div>"
            ],
            "text/plain": [
              "   age sex  diagnosis  ...      REG1B        TFF1        REG1A\n",
              "0   33   F          1  ...   52.94884  654.282174  1262.000000\n",
              "1   81   F          1  ...   94.46703  209.488250   228.407000\n",
              "2   51   M          1  ...  102.36600  461.141000   735.281222\n",
              "3   61   M          1  ...   60.57900  142.950000   735.281222\n",
              "4   62   M          1  ...   65.54000   41.088000   735.281222\n",
              "\n",
              "[5 rows x 9 columns]"
            ]
          },
          "metadata": {},
          "execution_count": 17
        }
      ]
    },
    {
      "cell_type": "code",
      "metadata": {
        "colab": {
          "base_uri": "https://localhost:8080/"
        },
        "id": "t823RHlK8Nlk",
        "outputId": "790a2fc4-bb94-4dce-f32c-9389668bc62d"
      },
      "source": [
        "df.info()"
      ],
      "execution_count": 18,
      "outputs": [
        {
          "output_type": "stream",
          "name": "stdout",
          "text": [
            "<class 'pandas.core.frame.DataFrame'>\n",
            "RangeIndex: 590 entries, 0 to 589\n",
            "Data columns (total 9 columns):\n",
            " #   Column         Non-Null Count  Dtype  \n",
            "---  ------         --------------  -----  \n",
            " 0   age            590 non-null    int64  \n",
            " 1   sex            590 non-null    object \n",
            " 2   diagnosis      590 non-null    int64  \n",
            " 3   plasma_CA19_9  590 non-null    float64\n",
            " 4   creatinine     590 non-null    float64\n",
            " 5   LYVE1          590 non-null    float64\n",
            " 6   REG1B          590 non-null    float64\n",
            " 7   TFF1           590 non-null    float64\n",
            " 8   REG1A          590 non-null    float64\n",
            "dtypes: float64(6), int64(2), object(1)\n",
            "memory usage: 41.6+ KB\n"
          ]
        }
      ]
    },
    {
      "cell_type": "markdown",
      "metadata": {
        "id": "p6DBRb9xS0ov"
      },
      "source": [
        "### Menangani Nilai Diagnosa\n",
        "\n",
        "Pada kolom diagnosis, terdapat 3 jenis nilai diantaranya adalah 1 (untuk pankreas yang sehat), 2 (untuk penderita benign hepatobiliary disease dan bukan merupakan kanker), 3 (untuk penderita kanker pankreas). Untuk itu pada proyek ini nilainya akan diubah dan hanya akan digolongkan ke 2 nilai yaitu 0 (untuk bukan penderita kanker pankreas) dan 1 (untuk penderita kanker pankreas)."
      ]
    },
    {
      "cell_type": "code",
      "metadata": {
        "id": "u001cgy89MwX"
      },
      "source": [
        "# Mengubah nilai diagnosis menjadi 0 dan 1\n",
        "df['diagnosis'].replace([1,2,3], [0,0,1], inplace=True)"
      ],
      "execution_count": 19,
      "outputs": []
    },
    {
      "cell_type": "code",
      "metadata": {
        "colab": {
          "base_uri": "https://localhost:8080/",
          "height": 204
        },
        "id": "4HWGCTq5ASIK",
        "outputId": "c1f026a0-b766-48ac-8d4b-74e0f5fec7c2"
      },
      "source": [
        "df.head()"
      ],
      "execution_count": 20,
      "outputs": [
        {
          "output_type": "execute_result",
          "data": {
            "text/html": [
              "<div>\n",
              "<style scoped>\n",
              "    .dataframe tbody tr th:only-of-type {\n",
              "        vertical-align: middle;\n",
              "    }\n",
              "\n",
              "    .dataframe tbody tr th {\n",
              "        vertical-align: top;\n",
              "    }\n",
              "\n",
              "    .dataframe thead th {\n",
              "        text-align: right;\n",
              "    }\n",
              "</style>\n",
              "<table border=\"1\" class=\"dataframe\">\n",
              "  <thead>\n",
              "    <tr style=\"text-align: right;\">\n",
              "      <th></th>\n",
              "      <th>age</th>\n",
              "      <th>sex</th>\n",
              "      <th>diagnosis</th>\n",
              "      <th>plasma_CA19_9</th>\n",
              "      <th>creatinine</th>\n",
              "      <th>LYVE1</th>\n",
              "      <th>REG1B</th>\n",
              "      <th>TFF1</th>\n",
              "      <th>REG1A</th>\n",
              "    </tr>\n",
              "  </thead>\n",
              "  <tbody>\n",
              "    <tr>\n",
              "      <th>0</th>\n",
              "      <td>33</td>\n",
              "      <td>F</td>\n",
              "      <td>0</td>\n",
              "      <td>11.700000</td>\n",
              "      <td>1.83222</td>\n",
              "      <td>0.893219</td>\n",
              "      <td>52.94884</td>\n",
              "      <td>654.282174</td>\n",
              "      <td>1262.000000</td>\n",
              "    </tr>\n",
              "    <tr>\n",
              "      <th>1</th>\n",
              "      <td>81</td>\n",
              "      <td>F</td>\n",
              "      <td>0</td>\n",
              "      <td>654.002944</td>\n",
              "      <td>0.97266</td>\n",
              "      <td>2.037585</td>\n",
              "      <td>94.46703</td>\n",
              "      <td>209.488250</td>\n",
              "      <td>228.407000</td>\n",
              "    </tr>\n",
              "    <tr>\n",
              "      <th>2</th>\n",
              "      <td>51</td>\n",
              "      <td>M</td>\n",
              "      <td>0</td>\n",
              "      <td>7.000000</td>\n",
              "      <td>0.78039</td>\n",
              "      <td>0.145589</td>\n",
              "      <td>102.36600</td>\n",
              "      <td>461.141000</td>\n",
              "      <td>735.281222</td>\n",
              "    </tr>\n",
              "    <tr>\n",
              "      <th>3</th>\n",
              "      <td>61</td>\n",
              "      <td>M</td>\n",
              "      <td>0</td>\n",
              "      <td>8.000000</td>\n",
              "      <td>0.70122</td>\n",
              "      <td>0.002805</td>\n",
              "      <td>60.57900</td>\n",
              "      <td>142.950000</td>\n",
              "      <td>735.281222</td>\n",
              "    </tr>\n",
              "    <tr>\n",
              "      <th>4</th>\n",
              "      <td>62</td>\n",
              "      <td>M</td>\n",
              "      <td>0</td>\n",
              "      <td>9.000000</td>\n",
              "      <td>0.21489</td>\n",
              "      <td>0.000860</td>\n",
              "      <td>65.54000</td>\n",
              "      <td>41.088000</td>\n",
              "      <td>735.281222</td>\n",
              "    </tr>\n",
              "  </tbody>\n",
              "</table>\n",
              "</div>"
            ],
            "text/plain": [
              "   age sex  diagnosis  ...      REG1B        TFF1        REG1A\n",
              "0   33   F          0  ...   52.94884  654.282174  1262.000000\n",
              "1   81   F          0  ...   94.46703  209.488250   228.407000\n",
              "2   51   M          0  ...  102.36600  461.141000   735.281222\n",
              "3   61   M          0  ...   60.57900  142.950000   735.281222\n",
              "4   62   M          0  ...   65.54000   41.088000   735.281222\n",
              "\n",
              "[5 rows x 9 columns]"
            ]
          },
          "metadata": {},
          "execution_count": 20
        }
      ]
    },
    {
      "cell_type": "markdown",
      "metadata": {
        "id": "vYIM_6UeUAaj"
      },
      "source": [
        "### One Hot Encoding\n",
        "\n",
        "One Hot Encoding merupakan teknik untuk merepresentasikan variabel atau fitur kategorikan ke dalam vektor biner."
      ]
    },
    {
      "cell_type": "code",
      "metadata": {
        "colab": {
          "base_uri": "https://localhost:8080/",
          "height": 204
        },
        "id": "0FPDKEZ1BS5V",
        "outputId": "cc391533-8b35-48d2-f6dd-a55081bb2426"
      },
      "source": [
        "# Melakukan OneHotEncoding pada data sex\n",
        "df = pd.get_dummies(df)\n",
        "df.head()"
      ],
      "execution_count": 21,
      "outputs": [
        {
          "output_type": "execute_result",
          "data": {
            "text/html": [
              "<div>\n",
              "<style scoped>\n",
              "    .dataframe tbody tr th:only-of-type {\n",
              "        vertical-align: middle;\n",
              "    }\n",
              "\n",
              "    .dataframe tbody tr th {\n",
              "        vertical-align: top;\n",
              "    }\n",
              "\n",
              "    .dataframe thead th {\n",
              "        text-align: right;\n",
              "    }\n",
              "</style>\n",
              "<table border=\"1\" class=\"dataframe\">\n",
              "  <thead>\n",
              "    <tr style=\"text-align: right;\">\n",
              "      <th></th>\n",
              "      <th>age</th>\n",
              "      <th>diagnosis</th>\n",
              "      <th>plasma_CA19_9</th>\n",
              "      <th>creatinine</th>\n",
              "      <th>LYVE1</th>\n",
              "      <th>REG1B</th>\n",
              "      <th>TFF1</th>\n",
              "      <th>REG1A</th>\n",
              "      <th>sex_F</th>\n",
              "      <th>sex_M</th>\n",
              "    </tr>\n",
              "  </thead>\n",
              "  <tbody>\n",
              "    <tr>\n",
              "      <th>0</th>\n",
              "      <td>33</td>\n",
              "      <td>0</td>\n",
              "      <td>11.700000</td>\n",
              "      <td>1.83222</td>\n",
              "      <td>0.893219</td>\n",
              "      <td>52.94884</td>\n",
              "      <td>654.282174</td>\n",
              "      <td>1262.000000</td>\n",
              "      <td>1</td>\n",
              "      <td>0</td>\n",
              "    </tr>\n",
              "    <tr>\n",
              "      <th>1</th>\n",
              "      <td>81</td>\n",
              "      <td>0</td>\n",
              "      <td>654.002944</td>\n",
              "      <td>0.97266</td>\n",
              "      <td>2.037585</td>\n",
              "      <td>94.46703</td>\n",
              "      <td>209.488250</td>\n",
              "      <td>228.407000</td>\n",
              "      <td>1</td>\n",
              "      <td>0</td>\n",
              "    </tr>\n",
              "    <tr>\n",
              "      <th>2</th>\n",
              "      <td>51</td>\n",
              "      <td>0</td>\n",
              "      <td>7.000000</td>\n",
              "      <td>0.78039</td>\n",
              "      <td>0.145589</td>\n",
              "      <td>102.36600</td>\n",
              "      <td>461.141000</td>\n",
              "      <td>735.281222</td>\n",
              "      <td>0</td>\n",
              "      <td>1</td>\n",
              "    </tr>\n",
              "    <tr>\n",
              "      <th>3</th>\n",
              "      <td>61</td>\n",
              "      <td>0</td>\n",
              "      <td>8.000000</td>\n",
              "      <td>0.70122</td>\n",
              "      <td>0.002805</td>\n",
              "      <td>60.57900</td>\n",
              "      <td>142.950000</td>\n",
              "      <td>735.281222</td>\n",
              "      <td>0</td>\n",
              "      <td>1</td>\n",
              "    </tr>\n",
              "    <tr>\n",
              "      <th>4</th>\n",
              "      <td>62</td>\n",
              "      <td>0</td>\n",
              "      <td>9.000000</td>\n",
              "      <td>0.21489</td>\n",
              "      <td>0.000860</td>\n",
              "      <td>65.54000</td>\n",
              "      <td>41.088000</td>\n",
              "      <td>735.281222</td>\n",
              "      <td>0</td>\n",
              "      <td>1</td>\n",
              "    </tr>\n",
              "  </tbody>\n",
              "</table>\n",
              "</div>"
            ],
            "text/plain": [
              "   age  diagnosis  plasma_CA19_9  ...        REG1A  sex_F  sex_M\n",
              "0   33          0      11.700000  ...  1262.000000      1      0\n",
              "1   81          0     654.002944  ...   228.407000      1      0\n",
              "2   51          0       7.000000  ...   735.281222      0      1\n",
              "3   61          0       8.000000  ...   735.281222      0      1\n",
              "4   62          0       9.000000  ...   735.281222      0      1\n",
              "\n",
              "[5 rows x 10 columns]"
            ]
          },
          "metadata": {},
          "execution_count": 21
        }
      ]
    },
    {
      "cell_type": "markdown",
      "metadata": {
        "id": "YBKhH0_LUVrL"
      },
      "source": [
        "### Menangani Pencilan (Outliers)\n",
        "\n",
        "Outliers adalah titik data yang berbeda secara signifikan dari pengamatan lainnya sehingga dapat berakibat buruk pada model prediksi. Pada proyek ini menggunakan IQR *(InterQuartile Range)* untuk mendeteksi outliers. IQR dapat menentukan data outliers yang kondisinya di luar batas bawah atau batas atas dari dataset. IQR dapat divisualkan menggunakan `boxplot`."
      ]
    },
    {
      "cell_type": "code",
      "metadata": {
        "colab": {
          "base_uri": "https://localhost:8080/",
          "height": 296
        },
        "id": "yd3sKqibDGDV",
        "outputId": "8322744f-b3fe-4059-9041-3a5bf1b8889b"
      },
      "source": [
        "sns.boxplot(x=df['age'])"
      ],
      "execution_count": 22,
      "outputs": [
        {
          "output_type": "execute_result",
          "data": {
            "text/plain": [
              "<matplotlib.axes._subplots.AxesSubplot at 0x7f34cf640a50>"
            ]
          },
          "metadata": {},
          "execution_count": 22
        },
        {
          "output_type": "display_data",
          "data": {
            "image/png": "[encoded data removed]",
            "text/plain": [
              "<Figure size 432x288 with 1 Axes>"
            ]
          },
          "metadata": {
            "needs_background": "light"
          }
        }
      ]
    },
    {
      "cell_type": "code",
      "metadata": {
        "colab": {
          "base_uri": "https://localhost:8080/",
          "height": 297
        },
        "id": "YjKSE-sYDVvU",
        "outputId": "089a46d2-7425-4d40-d3a5-4f663110eda2"
      },
      "source": [
        "sns.boxplot(x=df['plasma_CA19_9'])"
      ],
      "execution_count": 23,
      "outputs": [
        {
          "output_type": "execute_result",
          "data": {
            "text/plain": [
              "<matplotlib.axes._subplots.AxesSubplot at 0x7f34cf525610>"
            ]
          },
          "metadata": {},
          "execution_count": 23
        },
        {
          "output_type": "display_data",
          "data": {
            "image/png": "[encoded data removed]",
            "text/plain": [
              "<Figure size 432x288 with 1 Axes>"
            ]
          },
          "metadata": {
            "needs_background": "light"
          }
        }
      ]
    },
    {
      "cell_type": "code",
      "metadata": {
        "colab": {
          "base_uri": "https://localhost:8080/",
          "height": 296
        },
        "id": "M166l_SwDeeg",
        "outputId": "e31c837c-5c04-40fa-d62c-961b15047432"
      },
      "source": [
        "sns.boxplot(x=df['creatinine'])"
      ],
      "execution_count": 24,
      "outputs": [
        {
          "output_type": "execute_result",
          "data": {
            "text/plain": [
              "<matplotlib.axes._subplots.AxesSubplot at 0x7f34cf073d10>"
            ]
          },
          "metadata": {},
          "execution_count": 24
        },
        {
          "output_type": "display_data",
          "data": {
            "image/png": "[encoded data removed]",
            "text/plain": [
              "<Figure size 432x288 with 1 Axes>"
            ]
          },
          "metadata": {
            "needs_background": "light"
          }
        }
      ]
    },
    {
      "cell_type": "code",
      "metadata": {
        "colab": {
          "base_uri": "https://localhost:8080/",
          "height": 296
        },
        "id": "1qNqWeaQDjsv",
        "outputId": "d497e41a-9abd-41a6-f6d9-b18344499e6d"
      },
      "source": [
        "sns.boxplot(x=df['LYVE1'])"
      ],
      "execution_count": 25,
      "outputs": [
        {
          "output_type": "execute_result",
          "data": {
            "text/plain": [
              "<matplotlib.axes._subplots.AxesSubplot at 0x7f34ceff37d0>"
            ]
          },
          "metadata": {},
          "execution_count": 25
        },
        {
          "output_type": "display_data",
          "data": {
            "image/png": "[encoded data removed]",
            "text/plain": [
              "<Figure size 432x288 with 1 Axes>"
            ]
          },
          "metadata": {
            "needs_background": "light"
          }
        }
      ]
    },
    {
      "cell_type": "code",
      "metadata": {
        "colab": {
          "base_uri": "https://localhost:8080/",
          "height": 296
        },
        "id": "9JOERPQBDqR_",
        "outputId": "e3cfc4a7-98b0-4ac4-e58f-f4e2f26fae32"
      },
      "source": [
        "sns.boxplot(x=df['REG1B'])"
      ],
      "execution_count": 26,
      "outputs": [
        {
          "output_type": "execute_result",
          "data": {
            "text/plain": [
              "<matplotlib.axes._subplots.AxesSubplot at 0x7f34cef592d0>"
            ]
          },
          "metadata": {},
          "execution_count": 26
        },
        {
          "output_type": "display_data",
          "data": {
            "image/png": "[encoded data removed]",
            "text/plain": [
              "<Figure size 432x288 with 1 Axes>"
            ]
          },
          "metadata": {
            "needs_background": "light"
          }
        }
      ]
    },
    {
      "cell_type": "code",
      "metadata": {
        "colab": {
          "base_uri": "https://localhost:8080/",
          "height": 296
        },
        "id": "eI2F8ZsGD8LX",
        "outputId": "59499deb-5a35-4266-b92e-8a2e61ca31f3"
      },
      "source": [
        "sns.boxplot(x=df['TFF1'])"
      ],
      "execution_count": 27,
      "outputs": [
        {
          "output_type": "execute_result",
          "data": {
            "text/plain": [
              "<matplotlib.axes._subplots.AxesSubplot at 0x7f34ceeccb90>"
            ]
          },
          "metadata": {},
          "execution_count": 27
        },
        {
          "output_type": "display_data",
          "data": {
            "image/png": "[encoded data removed]",
            "text/plain": [
              "<Figure size 432x288 with 1 Axes>"
            ]
          },
          "metadata": {
            "needs_background": "light"
          }
        }
      ]
    },
    {
      "cell_type": "code",
      "metadata": {
        "colab": {
          "base_uri": "https://localhost:8080/",
          "height": 296
        },
        "id": "4C9fW9ccD-qF",
        "outputId": "ab5b57c2-c3d6-4bbc-cf43-1a9c17ebf5d7"
      },
      "source": [
        "sns.boxplot(x=df['REG1A'])"
      ],
      "execution_count": 28,
      "outputs": [
        {
          "output_type": "execute_result",
          "data": {
            "text/plain": [
              "<matplotlib.axes._subplots.AxesSubplot at 0x7f34cee9d210>"
            ]
          },
          "metadata": {},
          "execution_count": 28
        },
        {
          "output_type": "display_data",
          "data": {
            "image/png": "[encoded data removed]",
            "text/plain": [
              "<Figure size 432x288 with 1 Axes>"
            ]
          },
          "metadata": {
            "needs_background": "light"
          }
        }
      ]
    },
    {
      "cell_type": "code",
      "metadata": {
        "colab": {
          "base_uri": "https://localhost:8080/"
        },
        "id": "FCHFVR0IEFUs",
        "outputId": "61cc6012-1b84-48a2-fb26-023e94fb3e14"
      },
      "source": [
        "# Menghapus outliers yang ada pada dataset\n",
        "Q1 = df.quantile(0.25)\n",
        "Q3 = df.quantile(0.75)\n",
        "IQR=Q3-Q1\n",
        "new_df = df[~((df<(Q1-1.5*IQR))|(df>(Q3+1.5*IQR))).any(axis=1)]\n",
        " \n",
        "# ukuran dataset setelah drop outliers\n",
        "new_df.shape"
      ],
      "execution_count": 29,
      "outputs": [
        {
          "output_type": "execute_result",
          "data": {
            "text/plain": [
              "(470, 10)"
            ]
          },
          "metadata": {},
          "execution_count": 29
        }
      ]
    },
    {
      "cell_type": "markdown",
      "metadata": {
        "id": "TQx-_lVJUuRD"
      },
      "source": [
        "### Split Dataset\n",
        "\n",
        "Pembagian dataset ini bertujuan agar nantinya dapat digunakan untuk melatih dan mengevaluasi kinerja model. Pada proyek ini, 80% dataset digunakan untuk melatih model, dan 20% sisanya digunakan untuk mengevaluasi model."
      ]
    },
    {
      "cell_type": "code",
      "metadata": {
        "id": "yCT14hhHLhB2"
      },
      "source": [
        "# Menentukan fitur (X) dan label (y)\n",
        "X = new_df.drop([\"diagnosis\"],axis =1)\n",
        "y = new_df[\"diagnosis\"]\n",
        "\n",
        "# Split dataset menjadi data latih dan data uji\n",
        "X_train, X_test, y_train, y_test = train_test_split(X, y, test_size = 0.2, random_state = 60)"
      ],
      "execution_count": 30,
      "outputs": []
    },
    {
      "cell_type": "code",
      "metadata": {
        "colab": {
          "base_uri": "https://localhost:8080/"
        },
        "id": "3spUJ8UuOKd7",
        "outputId": "4273eb3f-6d6d-41e9-803d-df602ff7182f"
      },
      "source": [
        "# Jumlah data terkini\n",
        "print(f'Total # of sample in whole dataset: {len(X)}')\n",
        "print(f'Total # of sample in train dataset: {len(X_train)}')\n",
        "print(f'Total # of sample in test dataset: {len(X_test)}')"
      ],
      "execution_count": 31,
      "outputs": [
        {
          "output_type": "stream",
          "name": "stdout",
          "text": [
            "Total # of sample in whole dataset: 470\n",
            "Total # of sample in train dataset: 376\n",
            "Total # of sample in test dataset: 94\n"
          ]
        }
      ]
    },
    {
      "cell_type": "markdown",
      "metadata": {
        "id": "nB6oW2cTU4As"
      },
      "source": [
        "### Normalisasi\n",
        "\n",
        "Pada proyek ini akan menggunakan MinMaxScaler, yaitu teknik normalisasi yang mentransformasikan nilai fitur atau variabel ke dalam rentang [0,1] yang berarti bahwa nilai minimum dan maksimum dari fitur/variabel masing-masing adalah 0 dan 1"
      ]
    },
    {
      "cell_type": "code",
      "metadata": {
        "id": "7EFaTKWPCcAO"
      },
      "source": [
        "# Normalisasi dengan MinMaxScaler\n",
        "scaler = MinMaxScaler()\n",
        "scaler.fit(X_train)\n",
        "X_train = scaler.transform(X_train)\n",
        "X_test = scaler.transform(X_test)"
      ],
      "execution_count": 32,
      "outputs": []
    },
    {
      "cell_type": "markdown",
      "metadata": {
        "id": "sUw90xU3HncD"
      },
      "source": [
        "## Modeling\n",
        "\n",
        "Pada tahap ini akan dibuat beberapa model diantaranya menggunakan K-Nearest Neighbor, Random Forest, Support Vector Machine Classifier, dan Naive Bayes."
      ]
    },
    {
      "cell_type": "code",
      "metadata": {
        "id": "NR_TQbzpOtVD"
      },
      "source": [
        "# Menyiapkan dataframe untuk analisis model\n",
        "models = pd.DataFrame(index=['accuracy_score'], \n",
        "                      columns=['KNN', 'RandomForest', 'SVM', 'Naive Bayes'])"
      ],
      "execution_count": 33,
      "outputs": []
    },
    {
      "cell_type": "markdown",
      "metadata": {
        "id": "6olUu9V1WFbr"
      },
      "source": [
        "### KNN (K-Nearest Neighbor)"
      ]
    },
    {
      "cell_type": "code",
      "metadata": {
        "colab": {
          "base_uri": "https://localhost:8080/"
        },
        "id": "YmRkRLxKEvLA",
        "outputId": "087db1e2-b990-47ab-d734-7c0c9a346302"
      },
      "source": [
        "# Buat model prediksi dengan KNN\n",
        "model_knn = KNeighborsClassifier(n_neighbors=3)\n",
        "model_knn.fit(X_train, y_train)"
      ],
      "execution_count": 34,
      "outputs": [
        {
          "output_type": "execute_result",
          "data": {
            "text/plain": [
              "KNeighborsClassifier(algorithm='auto', leaf_size=30, metric='minkowski',\n",
              "                     metric_params=None, n_jobs=None, n_neighbors=3, p=2,\n",
              "                     weights='uniform')"
            ]
          },
          "metadata": {},
          "execution_count": 34
        }
      ]
    },
    {
      "cell_type": "code",
      "metadata": {
        "id": "wo631hWvWYVU"
      },
      "source": [
        "# Lakukan prediksi dengan model KNN\n",
        "knn_pred = model_knn.predict(X_test)\n",
        "\n",
        "# Hitung metriks akurasi dan simpan hasilnya\n",
        "models.loc['accuracy_score','KNN'] = accuracy_score(y_test, knn_pred)"
      ],
      "execution_count": 35,
      "outputs": []
    },
    {
      "cell_type": "markdown",
      "metadata": {
        "id": "iWgebbVgWTDl"
      },
      "source": [
        "### Random Forest"
      ]
    },
    {
      "cell_type": "code",
      "metadata": {
        "colab": {
          "base_uri": "https://localhost:8080/"
        },
        "id": "VCP_LpMgHrMR",
        "outputId": "8495c7a5-cee3-4bec-f197-c8bb587f139a"
      },
      "source": [
        "# Buat model prediksi dengan Random Forest\n",
        "model_rf = RandomForestClassifier()\n",
        "model_rf.fit(X_train, y_train)"
      ],
      "execution_count": 36,
      "outputs": [
        {
          "output_type": "execute_result",
          "data": {
            "text/plain": [
              "RandomForestClassifier(bootstrap=True, ccp_alpha=0.0, class_weight=None,\n",
              "                       criterion='gini', max_depth=None, max_features='auto',\n",
              "                       max_leaf_nodes=None, max_samples=None,\n",
              "                       min_impurity_decrease=0.0, min_impurity_split=None,\n",
              "                       min_samples_leaf=1, min_samples_split=2,\n",
              "                       min_weight_fraction_leaf=0.0, n_estimators=100,\n",
              "                       n_jobs=None, oob_score=False, random_state=None,\n",
              "                       verbose=0, warm_start=False)"
            ]
          },
          "metadata": {},
          "execution_count": 36
        }
      ]
    },
    {
      "cell_type": "code",
      "metadata": {
        "id": "5TnWKAQKHxpy"
      },
      "source": [
        "# Lakukan prediksi dengan model Random Forest\n",
        "rf_pred = model_rf.predict(X_test)\n",
        "\n",
        "# Hitung metriks akurasi dan simpan hasilnya\n",
        "models.loc['accuracy_score','RandomForest'] = accuracy_score(y_test, rf_pred)"
      ],
      "execution_count": 37,
      "outputs": []
    },
    {
      "cell_type": "markdown",
      "metadata": {
        "id": "T1gKMkksWXUT"
      },
      "source": [
        "### Support Vector Classifier"
      ]
    },
    {
      "cell_type": "code",
      "metadata": {
        "colab": {
          "base_uri": "https://localhost:8080/"
        },
        "id": "iJQAE1s1IoQ-",
        "outputId": "a852c8bb-c3cd-4f1c-d72a-8cef67c3e99d"
      },
      "source": [
        "# Buat model prediksi dengan Support Vector Machine Classifier\n",
        "model_svc = SVC()\n",
        "model_svc.fit(X_train, y_train)"
      ],
      "execution_count": 38,
      "outputs": [
        {
          "output_type": "execute_result",
          "data": {
            "text/plain": [
              "SVC(C=1.0, break_ties=False, cache_size=200, class_weight=None, coef0=0.0,\n",
              "    decision_function_shape='ovr', degree=3, gamma='scale', kernel='rbf',\n",
              "    max_iter=-1, probability=False, random_state=None, shrinking=True,\n",
              "    tol=0.001, verbose=False)"
            ]
          },
          "metadata": {},
          "execution_count": 38
        }
      ]
    },
    {
      "cell_type": "code",
      "metadata": {
        "id": "9yiGNGD6I02j"
      },
      "source": [
        "# Lakukan prediksi dengan model SVM Classifier\n",
        "svc_pred = model_svc.predict(X_test)\n",
        "\n",
        "# Hitung metriks akurasi dan simpan hasilnya\n",
        "models.loc['accuracy_score','SVM'] = accuracy_score(y_test, svc_pred)"
      ],
      "execution_count": 39,
      "outputs": []
    },
    {
      "cell_type": "markdown",
      "metadata": {
        "id": "R3BHl2cbWbVN"
      },
      "source": [
        "### Naive Bayes"
      ]
    },
    {
      "cell_type": "code",
      "metadata": {
        "colab": {
          "base_uri": "https://localhost:8080/"
        },
        "id": "wtWO3b7OMJ9y",
        "outputId": "9151f7ef-2b01-4abc-d4a5-d180e7d0ce72"
      },
      "source": [
        "# Buat model prediksi dengan Bernoulli Naive Bayes\n",
        "model_nb = BernoulliNB()\n",
        "model_nb.fit(X_train, y_train)"
      ],
      "execution_count": 40,
      "outputs": [
        {
          "output_type": "execute_result",
          "data": {
            "text/plain": [
              "BernoulliNB(alpha=1.0, binarize=0.0, class_prior=None, fit_prior=True)"
            ]
          },
          "metadata": {},
          "execution_count": 40
        }
      ]
    },
    {
      "cell_type": "code",
      "metadata": {
        "id": "Wbp_PxIsOZQt"
      },
      "source": [
        "# Lakukan prediksi dengan model Naive Bayes\n",
        "nb_pred = model_nb.predict(X_test)\n",
        "\n",
        "# Hitung metriks akurasi dan simpan hasilnya\n",
        "models.loc['accuracy_score','Naive Bayes'] = accuracy_score(y_test, nb_pred)"
      ],
      "execution_count": 41,
      "outputs": []
    },
    {
      "cell_type": "markdown",
      "metadata": {
        "id": "0G8GIHzXHqrR"
      },
      "source": [
        "## Evaluation"
      ]
    },
    {
      "cell_type": "markdown",
      "metadata": {
        "id": "Ej7NNjxNWj7f"
      },
      "source": [
        "Setelah mendapatkan beberapa model, maka dapat dibandingkan akurasi prediksinya untuk mendapatkan model dengan kinerja yang terbaik. Agar lebih mudah dapat menggunakan visualisasi seperti berikut."
      ]
    },
    {
      "cell_type": "code",
      "metadata": {
        "colab": {
          "base_uri": "https://localhost:8080/",
          "height": 295
        },
        "id": "Muy6xrk_POpk",
        "outputId": "ea815062-cc0e-4ca3-f4ad-ae345c93adf1"
      },
      "source": [
        "# Menampilkan perbandingan akurasi beberapa model yang telah dibuat\n",
        "plt.bar('KNN', models['KNN'])\n",
        "plt.bar('RandomForest', models['RandomForest'])\n",
        "plt.bar('SVM', models['SVM'])\n",
        "plt.bar('Naive Bayes', models['Naive Bayes'])\n",
        "plt.title(\"Perbandingan Akurasi Model\");\n",
        "plt.xlabel('Model');\n",
        "plt.ylabel('Akurasi');\n",
        "plt.show()"
      ],
      "execution_count": 43,
      "outputs": [
        {
          "output_type": "display_data",
          "data": {
            "image/png": "[encoded data removed]",
            "text/plain": [
              "<Figure size 432x288 with 1 Axes>"
            ]
          },
          "metadata": {
            "needs_background": "light"
          }
        }
      ]
    },
    {
      "cell_type": "markdown",
      "metadata": {
        "id": "mspiE1liW0WU"
      },
      "source": [
        "Dari diagram batang di atas dapat diketahui bahwa model dengan Random Forest memiliki akurasi yang paling tinggi dibanding 3 model lainnya. Untuk itu, model inilah yang akan dipilih dan dipakai."
      ]
    },
    {
      "cell_type": "markdown",
      "metadata": {
        "id": "K-76i_ngH1s7"
      },
      "source": [
        "## Penutup\n",
        "Saat ini model untuk memprediksi kanker pankreas telah didapatkan. Dengan model ini dapat diimplementasikan lebih lanjut menjadi aplikasi yang siap digunakan. Namun tentu saja model ini juga masih dapat disempurnakan dengan mencoba algoritma yang lain, melakukan fine-tuning, atau dengan mengubah dataset yang lebih beragam dan berkualitas."
      ]
    }
  ]
}